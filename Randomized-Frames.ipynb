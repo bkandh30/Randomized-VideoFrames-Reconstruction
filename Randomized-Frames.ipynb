{
 "cells": [
  {
   "cell_type": "code",
   "execution_count": 1,
   "metadata": {},
   "outputs": [],
   "source": [
    "import cv2\n",
    "import numpy as np\n",
    "import os\n",
    "import matplotlib.pyplot as plt\n",
    "import random\n",
    "import scipy.cluster.hierarchy as sch"
   ]
  },
  {
   "cell_type": "markdown",
   "metadata": {},
   "source": [
    "# Creating Shuffled Video"
   ]
  },
  {
   "cell_type": "markdown",
   "metadata": {},
   "source": [
    "## Pre Processing\n",
    "- Drop frames which have less than 2 features"
   ]
  },
  {
   "cell_type": "code",
   "execution_count": 2,
   "metadata": {},
   "outputs": [
    {
     "name": "stdout",
     "output_type": "stream",
     "text": [
      "The new video has been saved as 'video/orginal_processed.mp4'.\n"
     ]
    }
   ],
   "source": [
    "# Read the original video\n",
    "original_video = cv2.VideoCapture('video/original.mp4')\n",
    "\n",
    "# Get the video properties\n",
    "fps = original_video.get(cv2.CAP_PROP_FPS)\n",
    "frame_width = int(original_video.get(cv2.CAP_PROP_FRAME_WIDTH))\n",
    "frame_height = int(original_video.get(cv2.CAP_PROP_FRAME_HEIGHT))\n",
    "frame_count = int(original_video.get(cv2.CAP_PROP_FRAME_COUNT))\n",
    "\n",
    "# Initialize an array to store the frames\n",
    "frames = []\n",
    "# Initialize feature detector\n",
    "orb = cv2.ORB_create()\n",
    "\n",
    "# Loop through the frames of the original video\n",
    "while True:\n",
    "    # Read a frame from the video\n",
    "    ret, frame = original_video.read()\n",
    "    # Break the loop if the video has ended\n",
    "    if not ret:\n",
    "        break\n",
    "    # Convert the frame to grayscale\n",
    "    gray_frame = cv2.cvtColor(frame, cv2.COLOR_BGR2GRAY)\n",
    "    # Detect and compute the ORB features\n",
    "    keypoints, descriptors = orb.detectAndCompute(gray_frame, None)\n",
    "    # Drop the frame if it has less than 2 features\n",
    "    if len(keypoints) < 2:\n",
    "        continue\n",
    "    # Add the frame  to the array\n",
    "    frames.append(frame)\n",
    "\n",
    "# Release the video object\n",
    "original_video.release()\n",
    "\n",
    "\n",
    "# Define the output video path\n",
    "output_path = 'video/orginal_processed.mp4'\n",
    "\n",
    "# Create a VideoWriter object to save the new video\n",
    "output_video = cv2.VideoWriter(output_path, cv2.VideoWriter_fourcc(*'mp4v'), fps, (frame_width, frame_height), isColor=True)\n",
    "\n",
    "# Write each frame to the output video\n",
    "for frame_with_features in frames:\n",
    "    output_video.write(frame_with_features)\n",
    "\n",
    "# Release the video object\n",
    "output_video.release()\n",
    "\n",
    "print(f\"The new video has been saved as '{output_path}'.\")\n"
   ]
  },
  {
   "cell_type": "markdown",
   "metadata": {},
   "source": [
    "## Shuffle and Store the orginal order for error analysis."
   ]
  },
  {
   "cell_type": "code",
   "execution_count": 3,
   "metadata": {},
   "outputs": [],
   "source": [
    "orginal_order = list(range(0, len(frames)))\n",
    "\n",
    "# Shuffle frames, except first and last\n",
    "first_frame = frames[0:5]\n",
    "last_frame = frames[-5:]\n",
    "orginal_order_first = orginal_order[0:5]\n",
    "orginal_order_last = orginal_order[-5:]\n",
    "\n",
    "frames = frames[5:-5]\n",
    "orginal_order = orginal_order[5:-5]\n",
    "\n",
    "random.Random(10).shuffle(frames)\n",
    "random.Random(10).shuffle(orginal_order)\n",
    "\n",
    "frames = first_frame + frames + last_frame\n",
    "orginal_order = orginal_order_first + orginal_order + orginal_order_last\n",
    "\n",
    "\n",
    "# UNCOMMENT THIS IF YOU WANT TO IGNORE THE SHUFFLING OF FIRST AND LAST FRAMES. MAKE SURE TO DELETE BEFORE\n",
    "# # Saving the orginal order of frames for error analysis\n",
    "# orginal_order = list(range(0, len(frames)))\n",
    "# random.Random(4).shuffle(frames)\n",
    "# random.Random(4).shuffle(orginal_order)\n",
    "# print(orginal_order[:10])\n"
   ]
  },
  {
   "cell_type": "markdown",
   "metadata": {},
   "source": [
    "## Save shuffled video."
   ]
  },
  {
   "cell_type": "code",
   "execution_count": 4,
   "metadata": {},
   "outputs": [
    {
     "name": "stdout",
     "output_type": "stream",
     "text": [
      "The shuffled video has been saved as 'video/shuffled.mp4'.\n"
     ]
    }
   ],
   "source": [
    "# Define the output video path\n",
    "output_path = 'video/shuffled.mp4'\n",
    "\n",
    "# Create a VideoWriter object to save the shuffled video\n",
    "output_video = cv2.VideoWriter(output_path, cv2.VideoWriter_fourcc(*'mp4v'), fps, (frame_width, frame_height), isColor=True)\n",
    "\n",
    "# Write each frame to the output video\n",
    "for frame in frames:\n",
    "    output_video.write(frame)\n",
    "\n",
    "# Release the video object\n",
    "output_video.release()\n",
    "\n",
    "print(f\"The shuffled video has been saved as '{output_path}'.\")"
   ]
  },
  {
   "cell_type": "markdown",
   "metadata": {},
   "source": [
    "---\n",
    "# Preprocessing"
   ]
  },
  {
   "cell_type": "markdown",
   "metadata": {},
   "source": [
    "## Read shuffled video.\n",
    "- greyscale the frames\n",
    "- downsample the frames"
   ]
  },
  {
   "cell_type": "code",
   "execution_count": 5,
   "metadata": {},
   "outputs": [
    {
     "name": "stdout",
     "output_type": "stream",
     "text": [
      "The shuffled video contains 297 frames.\n"
     ]
    }
   ],
   "source": [
    "# Read the shuffled video\n",
    "shuffled_video = cv2.VideoCapture('video/shuffled.mp4')\n",
    "\n",
    "# Initialize an array to store the frames\n",
    "shuffled_frames = []\n",
    "\n",
    "# Loop through the frames of the shuffled video\n",
    "while True:\n",
    "    # Read a frame from the video\n",
    "    ret, frame = shuffled_video.read()\n",
    "    # Break the loop if the video has ended\n",
    "    if not ret:\n",
    "        break\n",
    "    # Convert the frame to grayscale\n",
    "    gray_frame = cv2.cvtColor(frame, cv2.COLOR_BGR2GRAY)\n",
    "    # Downsample the frame\n",
    "    downsampled_frame = cv2.resize(gray_frame, (0, 0), fx=0.5, fy=0.5)\n",
    "    # Add the frame to the array\n",
    "    shuffled_frames.append(downsampled_frame)\n",
    "\n",
    "# Release the video object\n",
    "shuffled_video.release()\n",
    "\n",
    "# Print the number of frames\n",
    "print(f\"The shuffled video contains {len(shuffled_frames)} frames.\")"
   ]
  },
  {
   "cell_type": "markdown",
   "metadata": {},
   "source": [
    "## ORB features for all frames"
   ]
  },
  {
   "cell_type": "code",
   "execution_count": 6,
   "metadata": {},
   "outputs": [],
   "source": [
    "\n",
    "# extract ORB features from all frames and store them in a list\n",
    "orb = cv2.ORB_create()\n",
    "descriptors = []\n",
    "for frame in shuffled_frames:\n",
    "    keypoints, descriptor = orb.detectAndCompute(frame, None)\n",
    "    descriptors.append(descriptor)\n"
   ]
  },
  {
   "cell_type": "markdown",
   "metadata": {},
   "source": [
    "## Compute Cost Matrix\n",
    "- Number of matches\n",
    "- L1 Distance between matched features\n",
    "- L2 Distance between matched features"
   ]
  },
  {
   "cell_type": "code",
   "execution_count": 7,
   "metadata": {},
   "outputs": [
    {
     "name": "stdout",
     "output_type": "stream",
     "text": [
      "[[ -1. 400. 387. 397. 393. 284. 285. 318. 342. 300.]\n",
      " [400.  -1. 415. 419. 416. 282. 320. 320. 340. 315.]\n",
      " [387. 415.  -1. 458. 454. 305. 316. 322. 347. 312.]\n",
      " [397. 419. 458.  -1. 455. 300. 315. 326. 364. 311.]\n",
      " [393. 416. 454. 455.  -1. 298. 309. 335. 361. 312.]\n",
      " [284. 282. 305. 300. 298.  -1. 270. 282. 286. 382.]\n",
      " [285. 320. 316. 315. 309. 270.  -1. 267. 287. 277.]\n",
      " [318. 320. 322. 326. 335. 282. 267.  -1. 332. 300.]\n",
      " [342. 340. 347. 364. 361. 286. 287. 332.  -1. 300.]\n",
      " [300. 315. 312. 311. 312. 382. 277. 300. 300.  -1.]]\n"
     ]
    }
   ],
   "source": [
    "# match features between frames\n",
    "match_map = np.zeros((len(frames), len(frames))) - 1\n",
    "distance_l1_map = np.zeros((len(frames), len(frames))) - 1\n",
    "distance_l2_map = np.zeros((len(frames), len(frames))) - 1\n",
    "\n",
    "# match features between frames\n",
    "bf = cv2.BFMatcher(cv2.NORM_HAMMING, crossCheck=True)\n",
    "for i in range(len(frames)):\n",
    "    for j in range(i+1, len(frames)):\n",
    "        if match_map[i, j] == -1:\n",
    "            \n",
    "            matches = bf.match(descriptors[i], descriptors[j])\n",
    "            # Number of Matches\n",
    "            num_matches = len(matches)\n",
    "            match_map[i, j] = num_matches\n",
    "            match_map[j, i] = num_matches\n",
    "            # Distance Matches\n",
    "            distance_l1 = 0\n",
    "            distance_l2 = 0\n",
    "            for match in matches:\n",
    "                distance_l1 += match.distance\n",
    "                distance_l2 += match.distance ** 2\n",
    "            distance_l1_map[i, j] = distance_l1 / num_matches\n",
    "            distance_l1_map[j, i] = distance_l1 / num_matches\n",
    "            distance_l2_map[i, j] = distance_l2 / num_matches\n",
    "            distance_l2_map[j, i] = distance_l2 / num_matches\n",
    "\n",
    "print(match_map[:10, :10])"
   ]
  },
  {
   "cell_type": "markdown",
   "metadata": {},
   "source": [
    "## Processing the distance maps\n",
    "Ideally, if we take number of matches as a paramenter, we should always maximize the number of matches but, if we take distance as a parameter, we should minimize the distance.\n",
    "In order to simplify our work, we will invert the distance matrix with the same scale so we can use the same algorithms for all of them."
   ]
  },
  {
   "cell_type": "code",
   "execution_count": 8,
   "metadata": {},
   "outputs": [],
   "source": [
    "max_distance_l1 = np.max(distance_l1_map)\n",
    "distance_l1_map = distance_l1_map * -1\n",
    "distance_l1_map += max_distance_l1\n",
    "np.fill_diagonal(distance_l1_map, -1)\n",
    "\n",
    "max_distance_l2 = np.max(distance_l2_map)\n",
    "distance_l2_map = distance_l2_map * -1\n",
    "distance_l2_map += max_distance_l2\n",
    "np.fill_diagonal(distance_l2_map, -1)"
   ]
  },
  {
   "cell_type": "markdown",
   "metadata": {},
   "source": [
    "---\n",
    "# Sorting Algorithm\n"
   ]
  },
  {
   "cell_type": "markdown",
   "metadata": {},
   "source": [
    "## Growth alogrithm (Merge Sort Based)\n",
    "we start with a random frame, finding the nearest neighbor frame based on cost. This frame is appended to the sequence depending on its proximity to the start or end. The process repeats until all frames are sorted."
   ]
  },
  {
   "cell_type": "code",
   "execution_count": 9,
   "metadata": {},
   "outputs": [],
   "source": [
    "def reorder_frames_and_save_video(cost_matrix, orginal_order_growth, shuffled_video_path, output_video_path):\n",
    "    # Initialize list to store reordered frames\n",
    "    reordered_frames = []\n",
    "    matches_list = cost_matrix\n",
    "    num_frames = len(matches_list)\n",
    "    # Start with the first frame\n",
    "    current_frame = 0\n",
    "    reordered_frames.append(current_frame)\n",
    "    # Find the frame with the highest number of feature matches\n",
    "    next_frame = np.argmax(matches_list[current_frame])\n",
    "    reordered_frames.append(next_frame)\n",
    "    # Update current frame\n",
    "    current_frame = reordered_frames[-1]\n",
    "\n",
    "    # Repeat until all frames have been added to reordered_frames\n",
    "    while len(reordered_frames) < num_frames:\n",
    "        # Split remaining frames into two groups\n",
    "        remaining_frames = [i for i in range(num_frames) if i not in reordered_frames]\n",
    "        # find the frame with the highest number of feature matches with current frame\n",
    "        next_frame = remaining_frames[np.argmax([matches_list[current_frame][i] for i in remaining_frames])]\n",
    "\n",
    "        # compare number of matches of next frame with current frame and number of matches of next frame with first frame\n",
    "        if matches_list[current_frame][next_frame] > matches_list[reordered_frames[0]][next_frame]:\n",
    "            reordered_frames.insert(0, next_frame)\n",
    "        else:\n",
    "            reordered_frames.append(next_frame)\n",
    "\n",
    "        current_frame = reordered_frames[-1]\n",
    "    print(f\"Number of frames reordered: {len(reordered_frames)}\")\n",
    "    print(\"All frames have been reordered.\")\n",
    "    ordered_orginal_order_growth = [orginal_order_growth[i] for i in reordered_frames]\n",
    "\n",
    "    # Read the shuffled video\n",
    "    shuffled_video = cv2.VideoCapture(shuffled_video_path)\n",
    "\n",
    "    # Get the video properties\n",
    "    fps = shuffled_video.get(cv2.CAP_PROP_FPS)\n",
    "    frame_width = int(shuffled_video.get(cv2.CAP_PROP_FRAME_WIDTH))\n",
    "    frame_height = int(shuffled_video.get(cv2.CAP_PROP_FRAME_HEIGHT))\n",
    "\n",
    "    # Create a VideoWriter object to save the reordered video\n",
    "    output_video = cv2.VideoWriter(output_video_path, cv2.VideoWriter_fourcc(*'mp4v'), fps, (frame_width, frame_height), isColor=True)\n",
    "\n",
    "    # Write each reordered frame to the output video\n",
    "    for frame_index in reordered_frames:\n",
    "        # Set the current frame position in the shuffled video\n",
    "        shuffled_video.set(cv2.CAP_PROP_POS_FRAMES, frame_index)\n",
    "\n",
    "        # Read the current frame from the shuffled video\n",
    "        ret, frame = shuffled_video.read()\n",
    "\n",
    "        # Write the current frame to the output video\n",
    "        output_video.write(frame)\n",
    "\n",
    "    # Release the video objects\n",
    "    shuffled_video.release()\n",
    "    output_video.release()\n",
    "\n",
    "    print(f\"The reordered video has been saved as '{output_video_path}'.\")\n",
    "    return ordered_orginal_order_growth\n"
   ]
  },
  {
   "cell_type": "markdown",
   "metadata": {},
   "source": [
    "## Travelling Salesman Problem\n",
    "On Close observation we can map our original problem of sorting a video, to a variant of the Travelling Salesman Problem. Using the Travelling Salesman Problem (TSP) approach to sort frames in video sorting involves modeling the sequence of frames as a fully connected graph. Each frame represents a node, and the edges between them are weighted according to the cost of transitioning from one frame to another, as defined in a cost matrix. The goal is to find the shortest path that visits each frame once, creating an optimal sequence. This approach, especially when employing a greedy algorithm, efficiently organizes frames in a manner that minimizes the overall transition cost, thus ensuring a smooth and logical progression of the video content. Unlike the traditional TSP, this variant does not require returning to the starting frame, making it more suitable for linear video sequences. "
   ]
  },
  {
   "cell_type": "code",
   "execution_count": 10,
   "metadata": {},
   "outputs": [],
   "source": [
    "import numpy as np\n",
    "import cv2\n",
    "\n",
    "def create_tsp_ordered_video(matches_map, original_video_path, orginal_order, output_video_path, isColor=True):\n",
    "    def order_sequence_with_max_match(matches_map):\n",
    "        N = len(matches_map) - 1  # Assuming matches_map is square\n",
    "        sequence = [0]\n",
    "        visited = {0, N}  # Start and end are already visited\n",
    "\n",
    "        current = 0\n",
    "        while len(sequence) < N:\n",
    "            next_element = np.argmax([matches_map[current][j] if j not in visited else -np.inf for j in range(N + 1)])\n",
    "            sequence.append(next_element)\n",
    "            visited.add(next_element)\n",
    "            current = next_element\n",
    "\n",
    "        sequence.append(N)\n",
    "        return sequence\n",
    "\n",
    "    # Order the frames based on the matches_map\n",
    "    sequence = order_sequence_with_max_match(matches_map)\n",
    "\n",
    "\n",
    "    # Read the original video\n",
    "    original_video = cv2.VideoCapture(original_video_path)\n",
    "\n",
    "    # Get the video properties\n",
    "    fps = original_video.get(cv2.CAP_PROP_FPS)\n",
    "    frame_width = int(original_video.get(cv2.CAP_PROP_FRAME_WIDTH))\n",
    "    frame_height = int(original_video.get(cv2.CAP_PROP_FRAME_HEIGHT))\n",
    "\n",
    "    # Create a VideoWriter object to save the new video\n",
    "    output_video = cv2.VideoWriter(output_video_path, cv2.VideoWriter_fourcc(*'mp4v'), fps, (frame_width, frame_height), isColor=isColor)\n",
    "\n",
    "    # Write each frame from the ordered sequence to the output video\n",
    "    for index in sequence:\n",
    "        original_video.set(cv2.CAP_PROP_POS_FRAMES, index)\n",
    "        ret, frame = original_video.read()\n",
    "        if ret:\n",
    "            output_video.write(frame)\n",
    "\n",
    "    # Release the video objects\n",
    "    original_video.release()\n",
    "    output_video.release()\n",
    "\n",
    "    # Order the orginal_order sequence\n",
    "    ordered_orginal_order = [orginal_order[i] for i in sequence]\n",
    "    # print(\"Ordered orginal_order sequence:\", ordered_orginal_order[20:30])\n",
    "\n",
    "    return ordered_orginal_order, sequence\n",
    "\n"
   ]
  },
  {
   "cell_type": "markdown",
   "metadata": {},
   "source": [
    "## Hierarchial clustering\n",
    "This is a method where each frame is initially treated as a separate cluster. The algorithm then progressively merges these clusters based on similarity measures, often derived from a predefined cost matrix. This approach organizes the video frames into a hierarchy, from individual frames to increasingly larger clusters, until a single, sorted sequence is achieved. This method is particularly useful for sorting video frames in a way that reflects their natural continuity and progression, making it an effective tool in video sorting."
   ]
  },
  {
   "cell_type": "code",
   "execution_count": 11,
   "metadata": {},
   "outputs": [],
   "source": [
    "def create_hierarchically_ordered_video(cost_matrix, original_video_path, orginal_order, output_video_path, isColor=True):\n",
    "    \n",
    "    max_cost = np.max(cost_matrix)\n",
    "    cost_matrix = cost_matrix * -1\n",
    "    cost_matrix += max_cost\n",
    "    np.fill_diagonal(cost_matrix, 0)\n",
    "\n",
    "\n",
    "    # Perform hierarchical clustering\n",
    "    Z = sch.linkage(sch.distance.squareform(cost_matrix), method='average')\n",
    "    order = sch.leaves_list(Z)\n",
    "    # print(\"The order of frames is:\", order)\n",
    "\n",
    "    # Read the original video\n",
    "    original_video = cv2.VideoCapture(original_video_path)\n",
    "\n",
    "    # Get the video properties\n",
    "    fps = original_video.get(cv2.CAP_PROP_FPS)\n",
    "    frame_width = int(original_video.get(cv2.CAP_PROP_FRAME_WIDTH))\n",
    "    frame_height = int(original_video.get(cv2.CAP_PROP_FRAME_HEIGHT))\n",
    "\n",
    "    # Create a VideoWriter object to save the new video\n",
    "    output_video = cv2.VideoWriter(output_video_path, cv2.VideoWriter_fourcc(*'mp4v'), fps, (frame_width, frame_height), isColor=isColor)\n",
    "\n",
    "    # Write each frame from the ordered sequence to the output video\n",
    "    for index in order:\n",
    "        original_video.set(cv2.CAP_PROP_POS_FRAMES, index)\n",
    "        ret, frame = original_video.read()\n",
    "        if ret:\n",
    "            output_video.write(frame)\n",
    "\n",
    "    # Release the video objects\n",
    "    original_video.release()\n",
    "    output_video.release()\n",
    "\n",
    "    # Order the orginal_order sequence\n",
    "    ordered_orginal_order = [orginal_order[i] for i in order]\n",
    "    # print(\"Ordered orginal_order sequence:\", ordered_orginal_order[20:30])\n",
    "\n",
    "    return ordered_orginal_order, order\n",
    "\n"
   ]
  },
  {
   "cell_type": "markdown",
   "metadata": {},
   "source": [
    "## Running for Diffrent Parameters\n",
    "### Number of Matches"
   ]
  },
  {
   "cell_type": "code",
   "execution_count": 12,
   "metadata": {},
   "outputs": [
    {
     "name": "stdout",
     "output_type": "stream",
     "text": [
      "Number of frames reordered: 297"
     ]
    },
    {
     "name": "stdout",
     "output_type": "stream",
     "text": [
      "\n",
      "All frames have been reordered.\n",
      "The reordered video has been saved as 'video/number_of_matches/reordered_grow_matches.mp4'.\n"
     ]
    }
   ],
   "source": [
    "cost_matrix = match_map.copy()\n",
    "orginal_order_growth_match = orginal_order.copy()\n",
    "shuffled_video_path = 'video/shuffled.mp4'\n",
    "output_video_path = 'video/number_of_matches/reordered_grow_matches.mp4'\n",
    "sequence_growth_match = reorder_frames_and_save_video(cost_matrix, orginal_order_growth_match, shuffled_video_path, output_video_path)"
   ]
  },
  {
   "cell_type": "code",
   "execution_count": 13,
   "metadata": {},
   "outputs": [
    {
     "name": "stdout",
     "output_type": "stream",
     "text": [
      "The ordered video has been saved as: video/number_of_matches/reordered_hier_matches.mp4\n"
     ]
    }
   ],
   "source": [
    "\n",
    "original_video_path = 'video/shuffled.mp4'\n",
    "output_video_path = 'video/number_of_matches/reordered_hier_matches.mp4'\n",
    "orginal_order_hier_match = orginal_order.copy()\n",
    "cost_matrix = match_map.copy()\n",
    "sequence_hier_match, order = create_hierarchically_ordered_video(cost_matrix, original_video_path, orginal_order_hier_match, output_video_path)\n",
    "print(\"The ordered video has been saved as:\", output_video_path)"
   ]
  },
  {
   "cell_type": "code",
   "execution_count": 14,
   "metadata": {},
   "outputs": [
    {
     "name": "stdout",
     "output_type": "stream",
     "text": [
      "The ordered video has been saved as: video/number_of_matches/reordered_tsp_matches.mp4\n"
     ]
    }
   ],
   "source": [
    "original_video_path = 'video/shuffled.mp4'\n",
    "output_video_path = 'video/number_of_matches/reordered_tsp_matches.mp4'\n",
    "orginal_order_tsp_match = orginal_order.copy()\n",
    "cost_matrix = match_map.copy()\n",
    "sequence_tsp_match, sequence = create_tsp_ordered_video(cost_matrix, original_video_path, orginal_order_tsp_match, output_video_path)\n",
    "print(\"The ordered video has been saved as:\", output_video_path)"
   ]
  },
  {
   "cell_type": "markdown",
   "metadata": {},
   "source": [
    "### L1 Distance"
   ]
  },
  {
   "cell_type": "code",
   "execution_count": 15,
   "metadata": {},
   "outputs": [
    {
     "name": "stdout",
     "output_type": "stream",
     "text": [
      "Number of frames reordered: 297\n",
      "All frames have been reordered.\n",
      "The reordered video has been saved as 'video/l1_distance/reordered_grow_l1_distance.mp4'.\n"
     ]
    }
   ],
   "source": [
    "cost_matrix = distance_l1_map.copy()\n",
    "orginal_order_growth_l1_distance = orginal_order.copy()\n",
    "shuffled_video_path = 'video/shuffled.mp4'\n",
    "output_video_path = 'video/l1_distance/reordered_grow_l1_distance.mp4'\n",
    "sequence_growth_l1 = reorder_frames_and_save_video(cost_matrix, orginal_order_growth_l1_distance, shuffled_video_path, output_video_path)"
   ]
  },
  {
   "cell_type": "code",
   "execution_count": 16,
   "metadata": {},
   "outputs": [
    {
     "name": "stdout",
     "output_type": "stream",
     "text": [
      "The ordered video has been saved as: video/l1_distance/reordered_hier_l1_distance.mp4\n"
     ]
    }
   ],
   "source": [
    "cost_matrix = distance_l1_map.copy()\n",
    "original_video_path = 'video/shuffled.mp4'\n",
    "output_video_path = 'video/l1_distance/reordered_hier_l1_distance.mp4'\n",
    "orginal_order_hier_l1_distance = orginal_order.copy()\n",
    "sequence_hier_l1, order = create_hierarchically_ordered_video(cost_matrix, original_video_path, orginal_order_hier_l1_distance, output_video_path)\n",
    "print(\"The ordered video has been saved as:\", output_video_path)"
   ]
  },
  {
   "cell_type": "code",
   "execution_count": 17,
   "metadata": {},
   "outputs": [
    {
     "name": "stdout",
     "output_type": "stream",
     "text": [
      "The ordered video has been saved as: video/l1_distance/reordered_tsp_l1_distance.mp4\n"
     ]
    }
   ],
   "source": [
    "original_video_path = 'video/shuffled.mp4'\n",
    "output_video_path = 'video/l1_distance/reordered_tsp_l1_distance.mp4'\n",
    "orginal_order_tsp_l1_distance = orginal_order.copy()\n",
    "cost_matrix = distance_l1_map.copy()\n",
    "sequence_tsp_l1, sequence = create_tsp_ordered_video(cost_matrix, original_video_path, orginal_order_tsp_l1_distance, output_video_path)\n",
    "print(\"The ordered video has been saved as:\", output_video_path)"
   ]
  },
  {
   "cell_type": "markdown",
   "metadata": {},
   "source": [
    "### L2 Distance"
   ]
  },
  {
   "cell_type": "code",
   "execution_count": 18,
   "metadata": {},
   "outputs": [
    {
     "name": "stdout",
     "output_type": "stream",
     "text": [
      "Number of frames reordered: 297\n",
      "All frames have been reordered.\n",
      "The reordered video has been saved as 'video/l2_distance/reordered_grow_l2_distance.mp4'.\n"
     ]
    }
   ],
   "source": [
    "cost_matrix = distance_l2_map.copy()\n",
    "orginal_order_growth_l2_distance = orginal_order.copy()\n",
    "shuffled_video_path = 'video/shuffled.mp4'\n",
    "output_video_path = 'video/l2_distance/reordered_grow_l2_distance.mp4'\n",
    "sequence_growth_l2 = reorder_frames_and_save_video(cost_matrix, orginal_order_growth_l2_distance, shuffled_video_path, output_video_path)"
   ]
  },
  {
   "cell_type": "code",
   "execution_count": 19,
   "metadata": {},
   "outputs": [
    {
     "name": "stdout",
     "output_type": "stream",
     "text": [
      "The ordered video has been saved as: video/l2_distance/reordered_hier_l2_distance.mp4\n"
     ]
    }
   ],
   "source": [
    "cost_matrix = distance_l2_map.copy()\n",
    "original_video_path = 'video/shuffled.mp4'\n",
    "output_video_path = 'video/l2_distance/reordered_hier_l2_distance.mp4'\n",
    "orginal_order_hier_l2_distance = orginal_order.copy()\n",
    "sequence_hier_l2, order = create_hierarchically_ordered_video(cost_matrix, original_video_path, orginal_order_hier_l2_distance, output_video_path)\n",
    "print(\"The ordered video has been saved as:\", output_video_path)"
   ]
  },
  {
   "cell_type": "code",
   "execution_count": 20,
   "metadata": {},
   "outputs": [
    {
     "name": "stdout",
     "output_type": "stream",
     "text": [
      "The ordered video has been saved as: video/l2_distance/reordered_tsp_l2_distance.mp4\n"
     ]
    }
   ],
   "source": [
    "original_video_path = 'video/shuffled.mp4'\n",
    "output_video_path = 'video/l2_distance/reordered_tsp_l2_distance.mp4'\n",
    "orginal_order_tsp_l2_distance = orginal_order.copy()\n",
    "cost_matrix = distance_l2_map.copy()\n",
    "sequence_tsp_l2, sequence = create_tsp_ordered_video(cost_matrix, original_video_path, orginal_order_tsp_l2_distance, output_video_path)\n",
    "print(\"The ordered video has been saved as:\", output_video_path)"
   ]
  },
  {
   "cell_type": "markdown",
   "metadata": {},
   "source": [
    "---\n",
    "# Performance Metrics"
   ]
  },
  {
   "cell_type": "markdown",
   "metadata": {},
   "source": [
    "\n",
    "## Lograthmic error function\n",
    "This is implemented as suggested by the Paper."
   ]
  },
  {
   "cell_type": "code",
   "execution_count": 21,
   "metadata": {},
   "outputs": [],
   "source": [
    "# Paper Error Function\n",
    "def calculate_sum_error(reord, x0=10):\n",
    "    # Calculate the absolute difference between consecutive elements of reord\n",
    "    diff = np.abs(reord[1:] - reord[:-1])\n",
    "\n",
    "    # Calculate the exponential term\n",
    "    exp_term = np.exp(-0.5 * (diff - x0))\n",
    "\n",
    "    # Calculate the denominator term\n",
    "    denominator = 1 + exp_term\n",
    "\n",
    "    # Calculate the sum of the error\n",
    "    sum_error = np.sum(1 / denominator) / len(reord)\n",
    "\n",
    "    return sum_error"
   ]
  },
  {
   "cell_type": "code",
   "execution_count": 22,
   "metadata": {},
   "outputs": [
    {
     "name": "stdout",
     "output_type": "stream",
     "text": [
      "The error of the orginal video is 0.01.\n",
      "The error of the shuffled video is 0.91.\n",
      "The error of the growth_match video is 0.20.\n",
      "The error of the hier_match video is 0.20.\n",
      "The error of the tsp_match video is 0.11.\n",
      "The error of the growth_l1 video is 0.24.\n",
      "The error of the hier_l1 video is 0.15.\n",
      "The error of the tsp_l1 video is 0.10.\n",
      "The error of the growth_l2 video is 0.29.\n",
      "The error of the hier_l2 video is 0.17.\n",
      "The error of the tsp_l2 video is 0.11.\n"
     ]
    }
   ],
   "source": [
    "error_orginal = calculate_sum_error(np.array(list(range(0, len(frames)))))\n",
    "print(f\"The error of the orginal video is {error_orginal:.2f}.\")\n",
    "error_shuffled = calculate_sum_error(np.array(orginal_order))\n",
    "print(f\"The error of the shuffled video is {error_shuffled:.2f}.\")\n",
    "error_growth_match = calculate_sum_error(np.array(sequence_growth_match))\n",
    "print(f\"The error of the growth_match video is {error_growth_match:.2f}.\")\n",
    "error_hier_match = calculate_sum_error(np.array(sequence_hier_match))\n",
    "print(f\"The error of the hier_match video is {error_hier_match:.2f}.\")\n",
    "error_tsp_match = calculate_sum_error(np.array(sequence_tsp_match))\n",
    "print(f\"The error of the tsp_match video is {error_tsp_match:.2f}.\")\n",
    "error_growth_l1 = calculate_sum_error(np.array(sequence_growth_l1))\n",
    "print(f\"The error of the growth_l1 video is {error_growth_l1:.2f}.\")\n",
    "error_hier_l1 = calculate_sum_error(np.array(sequence_hier_l1))\n",
    "print(f\"The error of the hier_l1 video is {error_hier_l1:.2f}.\")\n",
    "error_tsp_l1 = calculate_sum_error(np.array(sequence_tsp_l1))\n",
    "print(f\"The error of the tsp_l1 video is {error_tsp_l1:.2f}.\")\n",
    "error_growth_l2 = calculate_sum_error(np.array(sequence_growth_l2))\n",
    "print(f\"The error of the growth_l2 video is {error_growth_l2:.2f}.\")\n",
    "error_hier_l2 = calculate_sum_error(np.array(sequence_hier_l2))\n",
    "print(f\"The error of the hier_l2 video is {error_hier_l2:.2f}.\")\n",
    "error_tsp_l2 = calculate_sum_error(np.array(sequence_tsp_l2))\n",
    "print(f\"The error of the tsp_l2 video is {error_tsp_l2:.2f}.\")"
   ]
  },
  {
   "cell_type": "markdown",
   "metadata": {},
   "source": [
    "## Sequential Error function\n",
    "While the papers error function seems to agree with the qualitative analysis, the methodology of just comparing 2 adjucent orders doesnt seem right. so I Propose a new error function, Sequential_order_error.\n",
    "\n",
    "- This error function rewards longer continuous sequences within the sorted array.\n",
    "- It is less sensitive to the overall order and more to the length of sequentially ordered sub-sequences.\n",
    "- This approach is particularly useful when the relative ordering of the elements is more important than their absolute positioning."
   ]
  },
  {
   "cell_type": "code",
   "execution_count": 23,
   "metadata": {},
   "outputs": [],
   "source": [
    "def sequential_order_error(sorted_sequence):\n",
    "    error = 0\n",
    "    current_sequence_length = 1\n",
    "\n",
    "    for i in range(1, len(sorted_sequence)):\n",
    "        if sorted_sequence[i] == sorted_sequence[i - 1] + 1:\n",
    "            current_sequence_length += 1\n",
    "        else:\n",
    "            # Increase error for every break in the sequence\n",
    "            # The longer the continuous sequence, the less the penalty\n",
    "            error += 1 / current_sequence_length\n",
    "            current_sequence_length = 1  # Reset for the next sequence\n",
    "\n",
    "    # Normalize the error over the length of the sequence\n",
    "    normalized_error = error / len(sorted_sequence)\n",
    "    return normalized_error\n"
   ]
  },
  {
   "cell_type": "code",
   "execution_count": 24,
   "metadata": {},
   "outputs": [
    {
     "name": "stdout",
     "output_type": "stream",
     "text": [
      "The error of the orginal video is 0.00.\n",
      "The error of the shuffled video is 0.96.\n",
      "The error of the growth_match video is 0.90.\n",
      "The error of the hier_match video is 0.70.\n",
      "The error of the tsp_match video is 0.48.\n",
      "The error of the growth_l1 video is 0.94.\n",
      "The error of the hier_l1 video is 0.65.\n",
      "The error of the tsp_l1 video is 0.56.\n",
      "The error of the growth_l2 video is 0.93.\n",
      "The error of the hier_l2 video is 0.68.\n",
      "The error of the tsp_l2 video is 0.56.\n"
     ]
    }
   ],
   "source": [
    "sequential_error_orginal = sequential_order_error(np.array(list(range(0, len(frames)))))\n",
    "print(f\"The error of the orginal video is {sequential_error_orginal:.2f}.\")\n",
    "\n",
    "sequential_error_shuffled = sequential_order_error(np.array(orginal_order))\n",
    "print(f\"The error of the shuffled video is {sequential_error_shuffled:.2f}.\")\n",
    "\n",
    "sequential_error_growth_match = sequential_order_error(np.array(sequence_growth_match))\n",
    "print(f\"The error of the growth_match video is {sequential_error_growth_match:.2f}.\")\n",
    "\n",
    "sequential_error_hier_match = sequential_order_error(np.array(sequence_hier_match))\n",
    "print(f\"The error of the hier_match video is {sequential_error_hier_match:.2f}.\")\n",
    "\n",
    "sequential_error_tsp_match = sequential_order_error(np.array(sequence_tsp_match))\n",
    "print(f\"The error of the tsp_match video is {sequential_error_tsp_match:.2f}.\")\n",
    "\n",
    "sequential_error_growth_l1 = sequential_order_error(np.array(sequence_growth_l1))\n",
    "print(f\"The error of the growth_l1 video is {sequential_error_growth_l1:.2f}.\")\n",
    "\n",
    "sequential_error_hier_l1 = sequential_order_error(np.array(sequence_hier_l1))\n",
    "print(f\"The error of the hier_l1 video is {sequential_error_hier_l1:.2f}.\")\n",
    "\n",
    "sequential_error_tsp_l1 = sequential_order_error(np.array(sequence_tsp_l1))\n",
    "print(f\"The error of the tsp_l1 video is {sequential_error_tsp_l1:.2f}.\")\n",
    "\n",
    "sequential_error_growth_l2 = sequential_order_error(np.array(sequence_growth_l2))\n",
    "print(f\"The error of the growth_l2 video is {sequential_error_growth_l2:.2f}.\")\n",
    "\n",
    "sequential_error_hier_l2 = sequential_order_error(np.array(sequence_hier_l2))\n",
    "print(f\"The error of the hier_l2 video is {sequential_error_hier_l2:.2f}.\")\n",
    "\n",
    "sequential_error_tsp_l2 = sequential_order_error(np.array(sequence_tsp_l2))\n",
    "print(f\"The error of the tsp_l2 video is {sequential_error_tsp_l2:.2f}.\")"
   ]
  },
  {
   "cell_type": "code",
   "execution_count": 25,
   "metadata": {},
   "outputs": [
    {
     "name": "stderr",
     "output_type": "stream",
     "text": [
      "C:\\Users\\dublu\\AppData\\Local\\Temp\\ipykernel_31220\\2092954028.py:27: UserWarning: FixedFormatter should only be used together with FixedLocator\n",
      "  ax.set_xticklabels(labels, rotation=45)\n"
     ]
    },
    {
     "data": {
      "image/png": "[encoded data removed]",
      "text/plain": [
       "<Figure size 1200x600 with 2 Axes>"
      ]
     },
     "metadata": {},
     "output_type": "display_data"
    }
   ],
   "source": [
    "# Define the error values for logistic error function\n",
    "logistic_errors = [error_orginal, error_shuffled, error_growth_match, error_hier_match, error_tsp_match, error_growth_l1, error_hier_l1, error_tsp_l1, error_growth_l2, error_hier_l2, error_tsp_l2]\n",
    "\n",
    "# Define the error values for sequential error function\n",
    "sequential_errors = [sequential_error_orginal, sequential_error_shuffled, sequential_error_growth_match, sequential_error_hier_match, sequential_error_tsp_match, sequential_error_growth_l1, sequential_error_hier_l1, sequential_error_tsp_l1, sequential_error_growth_l2, sequential_error_hier_l2, sequential_error_tsp_l2]\n",
    "\n",
    "# Define the x-axis labels\n",
    "labels = ['Original', 'Shuffled', 'Growth Match', 'Hier Match', 'TSP Match', 'Growth L1', 'Hier L1', 'TSP L1', 'Growth L2', 'Hier L2', 'TSP L2']\n",
    "\n",
    "# Create a subplot with 1 row and 2 columns\n",
    "fig, axs = plt.subplots(1, 2, figsize=(12, 6))\n",
    "\n",
    "# Plot the logistic error function\n",
    "axs[0].bar(labels, logistic_errors)\n",
    "axs[0].set_xlabel('Video')\n",
    "axs[0].set_ylabel('Error')\n",
    "axs[0].set_title('Logistic Error Function')\n",
    "\n",
    "# Plot the sequential error function\n",
    "axs[1].bar(labels, sequential_errors)\n",
    "axs[1].set_xlabel('Video')\n",
    "axs[1].set_ylabel('Error')\n",
    "axs[1].set_title('Sequential Error Function')\n",
    "\n",
    "# Tilt the x-axis labels by 45 degrees\n",
    "for ax in axs:\n",
    "    ax.set_xticklabels(labels, rotation=45)\n",
    "\n",
    "# Add values at the end of each bar for logistic error function\n",
    "for i, error in enumerate(logistic_errors):\n",
    "    axs[0].text(i, error, str(round(error, 2)), ha='center', va='bottom')\n",
    "\n",
    "# Add values at the end of each bar for sequential error function\n",
    "for i, error in enumerate(sequential_errors):\n",
    "    axs[1].text(i, error, str(round(error, 2)), ha='center', va='bottom')\n",
    "\n",
    "# Adjust the spacing between subplots\n",
    "plt.tight_layout()\n",
    "\n",
    "# Show the plot\n",
    "plt.show()\n"
   ]
  }
 ],
 "metadata": {
  "kernelspec": {
   "display_name": "base",
   "language": "python",
   "name": "python3"
  },
  "language_info": {
   "codemirror_mode": {
    "name": "ipython",
    "version": 3
   },
   "file_extension": ".py",
   "mimetype": "text/x-python",
   "name": "python",
   "nbconvert_exporter": "python",
   "pygments_lexer": "ipython3",
   "version": "3.11.4"
  }
 },
 "nbformat": 4,
 "nbformat_minor": 2
}
